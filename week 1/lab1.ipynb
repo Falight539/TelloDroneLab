{
 "cells": [
  {
   "cell_type": "code",
   "execution_count": 1,
   "metadata": {},
   "outputs": [],
   "source": [
    "from djitellopy import Tello\n",
    "import time"
   ]
  },
  {
   "cell_type": "code",
   "execution_count": 2,
   "metadata": {},
   "outputs": [
    {
     "name": "stderr",
     "output_type": "stream",
     "text": [
      "[INFO] tello.py - 106 - Tello instance was initialized. Host: '192.168.10.1'. Port: '8889'.\n",
      "[INFO] tello.py - 421 - Send command: 'command'\n",
      "[INFO] tello.py - 445 - Response command: 'ok'\n"
     ]
    }
   ],
   "source": [
    "tello = Tello()\n",
    "tello.connect()"
   ]
  },
  {
   "cell_type": "code",
   "execution_count": 22,
   "metadata": {},
   "outputs": [
    {
     "name": "stderr",
     "output_type": "stream",
     "text": [
      "[INFO] tello.py - 421 - Send command: 'takeoff'\n"
     ]
    },
    {
     "name": "stdout",
     "output_type": "stream",
     "text": [
      "78\n",
      "0\n"
     ]
    },
    {
     "name": "stderr",
     "output_type": "stream",
     "text": [
      "[INFO] tello.py - 445 - Response takeoff: 'ok'\n",
      "[INFO] tello.py - 421 - Send command: 'up 25'\n"
     ]
    },
    {
     "name": "stdout",
     "output_type": "stream",
     "text": [
      "74\n"
     ]
    },
    {
     "name": "stderr",
     "output_type": "stream",
     "text": [
      "[INFO] tello.py - 445 - Response up 25: 'ok'\n"
     ]
    },
    {
     "name": "stdout",
     "output_type": "stream",
     "text": [
      "98\n"
     ]
    },
    {
     "name": "stderr",
     "output_type": "stream",
     "text": [
      "[INFO] tello.py - 421 - Send command: 'land'\n",
      "[INFO] tello.py - 445 - Response land: 'ok'\n"
     ]
    }
   ],
   "source": [
    "print(tello.get_battery())\n",
    "\n",
    "print(tello.get_height())\n",
    "\n",
    "tello.takeoff()\n",
    "\n",
    "time.sleep(0.5)\n",
    "\n",
    "print(tello.get_distance_tof())\n",
    "\n",
    "tello.move_up(25)\n",
    "\n",
    "time.sleep(0.5)\n",
    "\n",
    "print(tello.get_distance_tof())\n",
    "\n",
    "time.sleep(0.3)\n",
    "\n",
    "tello.land()"
   ]
  },
  {
   "cell_type": "code",
   "execution_count": 3,
   "metadata": {},
   "outputs": [
    {
     "name": "stderr",
     "output_type": "stream",
     "text": [
      "[INFO] tello.py - 421 - Send command: 'takeoff'\n",
      "[INFO] tello.py - 445 - Response takeoff: 'ok'\n",
      "[INFO] tello.py - 421 - Send command: 'forward 100'\n"
     ]
    },
    {
     "name": "stdout",
     "output_type": "stream",
     "text": [
      "point A\n",
      "5\n",
      "92\n"
     ]
    },
    {
     "name": "stderr",
     "output_type": "stream",
     "text": [
      "[INFO] tello.py - 445 - Response forward 100: 'ok'\n",
      "[INFO] tello.py - 421 - Send command: 'ccw 90'\n",
      "[INFO] tello.py - 445 - Response ccw 90: 'ok'\n",
      "[INFO] tello.py - 421 - Send command: 'forward 100'\n"
     ]
    },
    {
     "name": "stdout",
     "output_type": "stream",
     "text": [
      "point B\n",
      "11\n",
      "92\n"
     ]
    },
    {
     "name": "stderr",
     "output_type": "stream",
     "text": [
      "[INFO] tello.py - 445 - Response forward 100: 'ok'\n",
      "[INFO] tello.py - 421 - Send command: 'ccw 90'\n",
      "[INFO] tello.py - 445 - Response ccw 90: 'ok'\n",
      "[INFO] tello.py - 421 - Send command: 'forward 100'\n"
     ]
    },
    {
     "name": "stdout",
     "output_type": "stream",
     "text": [
      "point C\n",
      "16\n",
      "92\n"
     ]
    },
    {
     "name": "stderr",
     "output_type": "stream",
     "text": [
      "[INFO] tello.py - 445 - Response forward 100: 'ok'\n",
      "[INFO] tello.py - 421 - Send command: 'ccw 90'\n",
      "[INFO] tello.py - 445 - Response ccw 90: 'ok'\n",
      "[INFO] tello.py - 421 - Send command: 'forward 100'\n"
     ]
    },
    {
     "name": "stdout",
     "output_type": "stream",
     "text": [
      "point D\n",
      "22\n",
      "90\n"
     ]
    },
    {
     "name": "stderr",
     "output_type": "stream",
     "text": [
      "[INFO] tello.py - 445 - Response forward 100: 'ok'\n",
      "[INFO] tello.py - 421 - Send command: 'ccw 90'\n",
      "[INFO] tello.py - 445 - Response ccw 90: 'ok'\n",
      "[INFO] tello.py - 421 - Send command: 'forward 100'\n"
     ]
    },
    {
     "name": "stdout",
     "output_type": "stream",
     "text": [
      "point A\n",
      "27\n",
      "89\n"
     ]
    },
    {
     "name": "stderr",
     "output_type": "stream",
     "text": [
      "[INFO] tello.py - 445 - Response forward 100: 'ok'\n",
      "[INFO] tello.py - 421 - Send command: 'ccw 90'\n",
      "[INFO] tello.py - 445 - Response ccw 90: 'ok'\n",
      "[INFO] tello.py - 421 - Send command: 'forward 100'\n"
     ]
    },
    {
     "name": "stdout",
     "output_type": "stream",
     "text": [
      "point B\n",
      "33\n",
      "88\n"
     ]
    },
    {
     "name": "stderr",
     "output_type": "stream",
     "text": [
      "[INFO] tello.py - 445 - Response forward 100: 'ok'\n",
      "[INFO] tello.py - 421 - Send command: 'ccw 90'\n",
      "[INFO] tello.py - 445 - Response ccw 90: 'ok'\n",
      "[INFO] tello.py - 421 - Send command: 'forward 100'\n"
     ]
    },
    {
     "name": "stdout",
     "output_type": "stream",
     "text": [
      "point C\n",
      "38\n",
      "86\n"
     ]
    },
    {
     "name": "stderr",
     "output_type": "stream",
     "text": [
      "[INFO] tello.py - 445 - Response forward 100: 'ok'\n",
      "[INFO] tello.py - 421 - Send command: 'ccw 90'\n",
      "[INFO] tello.py - 445 - Response ccw 90: 'ok'\n",
      "[INFO] tello.py - 421 - Send command: 'forward 100'\n"
     ]
    },
    {
     "name": "stdout",
     "output_type": "stream",
     "text": [
      "point D\n",
      "44\n",
      "85\n"
     ]
    },
    {
     "name": "stderr",
     "output_type": "stream",
     "text": [
      "[INFO] tello.py - 445 - Response forward 100: 'ok'\n",
      "[INFO] tello.py - 421 - Send command: 'ccw 90'\n",
      "[INFO] tello.py - 445 - Response ccw 90: 'ok'\n",
      "[INFO] tello.py - 421 - Send command: 'land'\n",
      "[INFO] tello.py - 445 - Response land: 'ok'\n"
     ]
    },
    {
     "data": {
      "text/plain": [
       "52"
      ]
     },
     "execution_count": 3,
     "metadata": {},
     "output_type": "execute_result"
    }
   ],
   "source": [
    "Path = ['A', 'B', 'C', 'D']\n",
    "\n",
    "tello.get_battery()\n",
    "tello.get_flight_time()\n",
    "tello.takeoff()\n",
    "time.sleep(0.2)\n",
    "\n",
    "for i in range(2):\n",
    "    for i in Path:\n",
    "        time.sleep(0.5)\n",
    "        print('point ' + i)\n",
    "        print(tello.get_flight_time())\n",
    "        print(tello.get_battery())\n",
    "\n",
    "        tello.move_forward(100)\n",
    "        tello.rotate_counter_clockwise(90)\n",
    "\n",
    "tello.land()\n",
    "tello.get_flight_time()"
   ]
  },
  {
   "cell_type": "code",
   "execution_count": 16,
   "metadata": {},
   "outputs": [
    {
     "name": "stderr",
     "output_type": "stream",
     "text": [
      "[INFO] tello.py - 421 - Send command: 'land'\n",
      "[INFO] tello.py - 445 - Response land: 'ok'\n"
     ]
    }
   ],
   "source": [
    "tello.land()"
   ]
  },
  {
   "cell_type": "code",
   "execution_count": 27,
   "metadata": {},
   "outputs": [
    {
     "data": {
      "text/plain": [
       "45"
      ]
     },
     "execution_count": 27,
     "metadata": {},
     "output_type": "execute_result"
    }
   ],
   "source": [
    "tello.get_battery()"
   ]
  },
  {
   "cell_type": "code",
   "execution_count": 26,
   "metadata": {},
   "outputs": [
    {
     "data": {
      "text/plain": [
       "171"
      ]
     },
     "execution_count": 26,
     "metadata": {},
     "output_type": "execute_result"
    }
   ],
   "source": [
    "tello.get_flight_time()"
   ]
  },
  {
   "cell_type": "code",
   "execution_count": null,
   "metadata": {},
   "outputs": [],
   "source": []
  }
 ],
 "metadata": {
  "kernelspec": {
   "display_name": "venv",
   "language": "python",
   "name": "python3"
  },
  "language_info": {
   "codemirror_mode": {
    "name": "ipython",
    "version": 3
   },
   "file_extension": ".py",
   "mimetype": "text/x-python",
   "name": "python",
   "nbconvert_exporter": "python",
   "pygments_lexer": "ipython3",
   "version": "3.9.13"
  },
  "orig_nbformat": 4
 },
 "nbformat": 4,
 "nbformat_minor": 2
}
