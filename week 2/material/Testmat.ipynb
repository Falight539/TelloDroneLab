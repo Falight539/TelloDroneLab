{
 "cells": [
  {
   "cell_type": "code",
   "execution_count": 6,
   "metadata": {},
   "outputs": [
    {
     "ename": "OSError",
     "evalue": "[WinError 10048] Only one usage of each socket address (protocol/network address/port) is normally permitted",
     "output_type": "error",
     "traceback": [
      "\u001b[1;31m---------------------------------------------------------------------------\u001b[0m",
      "\u001b[1;31mOSError\u001b[0m                                   Traceback (most recent call last)",
      "Cell \u001b[1;32mIn[6], line 3\u001b[0m\n\u001b[0;32m      1\u001b[0m \u001b[39mfrom\u001b[39;00m \u001b[39mdjitellopy\u001b[39;00m \u001b[39mimport\u001b[39;00m Tello\n\u001b[1;32m----> 3\u001b[0m tello \u001b[39m=\u001b[39m Tello()\n\u001b[0;32m      4\u001b[0m tello\u001b[39m.\u001b[39mconnect()\n\u001b[0;32m      6\u001b[0m power \u001b[39m=\u001b[39m tello\u001b[39m.\u001b[39mget_battery()\n",
      "File \u001b[1;32me:\\RobotLab2\\Drone\\Tello-master\\venv\\lib\\site-packages\\djitellopy\\enforce_types.py:54\u001b[0m, in \u001b[0;36menforce_types.<locals>.decorate.<locals>.wrapper\u001b[1;34m(*args, **kwargs)\u001b[0m\n\u001b[0;32m     51\u001b[0m \u001b[39m@wraps\u001b[39m(func)\n\u001b[0;32m     52\u001b[0m \u001b[39mdef\u001b[39;00m \u001b[39mwrapper\u001b[39m(\u001b[39m*\u001b[39margs, \u001b[39m*\u001b[39m\u001b[39m*\u001b[39mkwargs):\n\u001b[0;32m     53\u001b[0m     check_types(spec, \u001b[39m*\u001b[39margs, \u001b[39m*\u001b[39m\u001b[39m*\u001b[39mkwargs)\n\u001b[1;32m---> 54\u001b[0m     \u001b[39mreturn\u001b[39;00m func(\u001b[39m*\u001b[39margs, \u001b[39m*\u001b[39m\u001b[39m*\u001b[39mkwargs)\n",
      "File \u001b[1;32me:\\RobotLab2\\Drone\\Tello-master\\venv\\lib\\site-packages\\djitellopy\\tello.py:92\u001b[0m, in \u001b[0;36mTello.__init__\u001b[1;34m(self, host, retry_count)\u001b[0m\n\u001b[0;32m     89\u001b[0m \u001b[39mif\u001b[39;00m \u001b[39mnot\u001b[39;00m threads_initialized:\n\u001b[0;32m     90\u001b[0m     \u001b[39m# Run Tello command responses UDP receiver on background\u001b[39;00m\n\u001b[0;32m     91\u001b[0m     client_socket \u001b[39m=\u001b[39m socket\u001b[39m.\u001b[39msocket(socket\u001b[39m.\u001b[39mAF_INET, socket\u001b[39m.\u001b[39mSOCK_DGRAM)\n\u001b[1;32m---> 92\u001b[0m     client_socket\u001b[39m.\u001b[39;49mbind((\u001b[39m'\u001b[39;49m\u001b[39m'\u001b[39;49m, Tello\u001b[39m.\u001b[39;49mCONTROL_UDP_PORT))\n\u001b[0;32m     93\u001b[0m     response_receiver_thread \u001b[39m=\u001b[39m Thread(target\u001b[39m=\u001b[39mTello\u001b[39m.\u001b[39mudp_response_receiver)\n\u001b[0;32m     94\u001b[0m     response_receiver_thread\u001b[39m.\u001b[39mdaemon \u001b[39m=\u001b[39m \u001b[39mTrue\u001b[39;00m\n",
      "\u001b[1;31mOSError\u001b[0m: [WinError 10048] Only one usage of each socket address (protocol/network address/port) is normally permitted"
     ]
    }
   ],
   "source": [
    "from djitellopy import Tello\n",
    "\n",
    "tello = Tello()\n",
    "tello.connect()\n",
    "\n",
    "power = tello.get_battery()\n",
    "print(\"Power Level =\", power,\"%\")"
   ]
  },
  {
   "cell_type": "code",
   "execution_count": null,
   "metadata": {},
   "outputs": [],
   "source": [
    "tello.takeoff()\n",
    "tello.land()"
   ]
  },
  {
   "cell_type": "code",
   "execution_count": 2,
   "metadata": {},
   "outputs": [],
   "source": [
    "import cv2"
   ]
  },
  {
   "cell_type": "code",
   "execution_count": 4,
   "metadata": {},
   "outputs": [
    {
     "name": "stderr",
     "output_type": "stream",
     "text": [
      "[INFO] tello.py - 421 - Send command: 'streamon'\n",
      "[INFO] tello.py - 445 - Response streamon: 'ok'\n",
      "[INFO] tello.py - 421 - Send command: 'takeoff'\n",
      "[INFO] tello.py - 445 - Response takeoff: 'ok'\n",
      "[INFO] tello.py - 421 - Send command: 'up 30'\n",
      "[INFO] tello.py - 445 - Response up 30: 'ok'\n",
      "[INFO] tello.py - 421 - Send command: 'land'\n",
      "[INFO] tello.py - 445 - Response land: 'ok'\n"
     ]
    }
   ],
   "source": [
    "tello.streamon()\n",
    "frame_read = tello.get_frame_read()\n",
    "\n",
    "tello.takeoff()\n",
    "tello.move_up(30)\n",
    "\n",
    "cv2.imwrite(\"picture1.png\", frame_read.frame)\n",
    "\n",
    "tello.land()"
   ]
  },
  {
   "cell_type": "code",
   "execution_count": 8,
   "metadata": {},
   "outputs": [],
   "source": [
    "import time\n",
    "from threading import Thread\n",
    "import numpy as np"
   ]
  },
  {
   "cell_type": "code",
   "execution_count": 9,
   "metadata": {},
   "outputs": [
    {
     "name": "stderr",
     "output_type": "stream",
     "text": [
      "[INFO] tello.py - 421 - Send command: 'streamon'\n",
      "[INFO] tello.py - 445 - Response streamon: 'ok'\n"
     ]
    }
   ],
   "source": [
    "keepRecording = True\n",
    "tello.streamon()\n",
    "frame_read = tello.get_frame_read()\n",
    "\n",
    "frame = None\n",
    "\n",
    "def videoRecorder():\n",
    "    global frame\n",
    "    # create a VideoWrite object, recoring to ./video.avi\n",
    "    height, width, _ = frame_read.frame.shape\n",
    "    video = cv2.VideoWriter('video2.avi', cv2.VideoWriter_fourcc(*'XVID'), 30, (width, height))\n",
    "\n",
    "    while keepRecording:\n",
    "        frame = frame_read.frame.copy()\n",
    "        video.write(frame)\n",
    "        time.sleep(1 / 30)\n",
    "\n",
    "    video.release()"
   ]
  },
  {
   "cell_type": "code",
   "execution_count": 10,
   "metadata": {},
   "outputs": [
    {
     "name": "stderr",
     "output_type": "stream",
     "text": [
      "[INFO] tello.py - 421 - Send command: 'takeoff'\n"
     ]
    },
    {
     "name": "stdout",
     "output_type": "stream",
     "text": [
      "42\n"
     ]
    },
    {
     "name": "stderr",
     "output_type": "stream",
     "text": [
      "[INFO] tello.py - 445 - Response takeoff: 'ok'\n",
      "[INFO] tello.py - 421 - Send command: 'up 40'\n",
      "[INFO] tello.py - 445 - Response up 40: 'ok'\n",
      "[INFO] tello.py - 421 - Send command: 'ccw 360'\n",
      "[INFO] tello.py - 445 - Response ccw 360: 'ok'\n",
      "[INFO] tello.py - 421 - Send command: 'land'\n",
      "[INFO] tello.py - 445 - Response land: 'ok'\n"
     ]
    }
   ],
   "source": [
    "# we need to run the recorder in a seperate thread, otherwise blocking options\n",
    "#  would prevent frames from getting added to the video\n",
    "\n",
    "print(tello.get_battery())\n",
    "\n",
    "recorder = Thread(target=videoRecorder)\n",
    "recorder.start()\n",
    "\n",
    "tello.takeoff()\n",
    "tello.move_up(40)\n",
    "tello.rotate_counter_clockwise(360)\n",
    "tello.land()\n",
    "\n",
    "keepRecording = False\n",
    "recorder.join()"
   ]
  },
  {
   "cell_type": "code",
   "execution_count": null,
   "metadata": {},
   "outputs": [],
   "source": []
  }
 ],
 "metadata": {
  "kernelspec": {
   "display_name": "venv",
   "language": "python",
   "name": "python3"
  },
  "language_info": {
   "codemirror_mode": {
    "name": "ipython",
    "version": 3
   },
   "file_extension": ".py",
   "mimetype": "text/x-python",
   "name": "python",
   "nbconvert_exporter": "python",
   "pygments_lexer": "ipython3",
   "version": "3.9.13"
  },
  "orig_nbformat": 4
 },
 "nbformat": 4,
 "nbformat_minor": 2
}
