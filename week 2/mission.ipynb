{
 "cells": [
  {
   "cell_type": "code",
   "execution_count": 1,
   "metadata": {},
   "outputs": [],
   "source": [
    "from djitellopy import Tello\n",
    "from threading import Thread\n",
    "import time, cv2\n"
   ]
  },
  {
   "cell_type": "code",
   "execution_count": 2,
   "metadata": {},
   "outputs": [
    {
     "name": "stderr",
     "output_type": "stream",
     "text": [
      "[INFO] tello.py - 106 - Tello instance was initialized. Host: '192.168.10.1'. Port: '8889'.\n",
      "[INFO] tello.py - 421 - Send command: 'command'\n",
      "[INFO] tello.py - 445 - Response command: 'ok'\n"
     ]
    }
   ],
   "source": [
    "tello = Tello()\n",
    "tello.connect()"
   ]
  },
  {
   "cell_type": "code",
   "execution_count": 3,
   "metadata": {},
   "outputs": [],
   "source": [
    "def printBatt():\n",
    "    batt = tello.get_battery()\n",
    "    print(\"Batt:\", batt, \"%\")"
   ]
  },
  {
   "cell_type": "code",
   "execution_count": 11,
   "metadata": {},
   "outputs": [
    {
     "name": "stdout",
     "output_type": "stream",
     "text": [
      "Batt: 56 %\n"
     ]
    }
   ],
   "source": [
    "printBatt()"
   ]
  },
  {
   "cell_type": "code",
   "execution_count": 12,
   "metadata": {},
   "outputs": [
    {
     "name": "stderr",
     "output_type": "stream",
     "text": [
      "[INFO] tello.py - 421 - Send command: 'streamon'\n",
      "[INFO] tello.py - 445 - Response streamon: 'ok'\n"
     ]
    }
   ],
   "source": [
    "keepRecording = True\n",
    "tello.streamon()\n",
    "frame_read = tello.get_frame_read()\n",
    "\n",
    "def videoRecorder():\n",
    "    # create a VideoWrite object, recoring to ./video.avi\n",
    "    height, width, _ = frame_read.frame.shape\n",
    "    video = cv2.VideoWriter('Curve.avi', cv2.VideoWriter_fourcc(*'XVID'), 30, (width, height))\n",
    "\n",
    "    while keepRecording:\n",
    "        video.write(frame_read.frame)\n",
    "        time.sleep(1 / 30)\n",
    "\n",
    "    video.release()"
   ]
  },
  {
   "cell_type": "code",
   "execution_count": 13,
   "metadata": {},
   "outputs": [
    {
     "name": "stderr",
     "output_type": "stream",
     "text": [
      "[INFO] tello.py - 421 - Send command: 'takeoff'\n",
      "[INFO] tello.py - 445 - Response takeoff: 'ok'\n",
      "[INFO] tello.py - 421 - Send command: 'up 40'\n",
      "[INFO] tello.py - 445 - Response up 40: 'ok'\n",
      "[INFO] tello.py - 421 - Send command: 'forward 30'\n",
      "[INFO] tello.py - 445 - Response forward 30: 'ok'\n",
      "[INFO] tello.py - 421 - Send command: 'left 30'\n",
      "[INFO] tello.py - 445 - Response left 30: 'ok'\n",
      "[INFO] tello.py - 421 - Send command: 'right 60'\n",
      "[INFO] tello.py - 445 - Response right 60: 'ok'\n",
      "[INFO] tello.py - 421 - Send command: 'left 30'\n",
      "[INFO] tello.py - 445 - Response left 30: 'ok'\n",
      "[INFO] tello.py - 421 - Send command: 'go -60 0 -50 20'\n"
     ]
    },
    {
     "name": "stdout",
     "output_type": "stream",
     "text": [
      "Batt: 54 %\n"
     ]
    },
    {
     "name": "stderr",
     "output_type": "stream",
     "text": [
      "[INFO] tello.py - 445 - Response go -60 0 -50 20: 'ok'\n",
      "[INFO] tello.py - 421 - Send command: 'cw 360'\n",
      "[INFO] tello.py - 445 - Response cw 360: 'ok'\n",
      "[INFO] tello.py - 421 - Send command: 'land'\n",
      "[INFO] tello.py - 445 - Response land: 'ok'\n"
     ]
    },
    {
     "name": "stderr",
     "output_type": "stream",
     "text": [
      "Exception in thread Thread-7:\n",
      "Traceback (most recent call last):\n",
      "  File \"C:\\Program Files\\WindowsApps\\PythonSoftwareFoundation.Python.3.9_3.9.3568.0_x64__qbz5n2kfra8p0\\lib\\threading.py\", line 980, in _bootstrap_inner\n",
      "    self.run()\n",
      "  File \"C:\\Program Files\\WindowsApps\\PythonSoftwareFoundation.Python.3.9_3.9.3568.0_x64__qbz5n2kfra8p0\\lib\\threading.py\", line 917, in run\n",
      "    self._target(*self._args, **self._kwargs)\n",
      "  File \"e:\\RobotLab2\\Drone\\Tello-master\\venv\\lib\\site-packages\\djitellopy\\tello.py\", line 949, in update_frame\n",
      "    self.stop()\n",
      "  File \"e:\\RobotLab2\\Drone\\Tello-master\\venv\\lib\\site-packages\\djitellopy\\tello.py\", line 958, in stop\n",
      "    self.worker.join()\n",
      "  File \"C:\\Program Files\\WindowsApps\\PythonSoftwareFoundation.Python.3.9_3.9.3568.0_x64__qbz5n2kfra8p0\\lib\\threading.py\", line 1057, in join\n",
      "    raise RuntimeError(\"cannot join current thread\")\n",
      "RuntimeError: cannot join current thread\n"
     ]
    }
   ],
   "source": [
    "tello.takeoff()\n",
    "\n",
    "tello.move_up(40)\n",
    "tello.move_forward(30)\n",
    "\n",
    "cv2.imwrite(\"Face.png\", frame_read.frame)\n",
    "tello.move_left(30)\n",
    "cv2.imwrite(\"Face_left.png\", frame_read.frame)\n",
    "tello.move_right(60)\n",
    "cv2.imwrite(\"Face_right.png\", frame_read.frame)\n",
    "tello.move_left(30)\n",
    "\n",
    "printBatt()\n",
    "\n",
    "recorder = Thread(target=videoRecorder)\n",
    "recorder.start()\n",
    "\n",
    "tello.go_xyz_speed(x=-60, y=0, z=-50, speed=20)\n",
    "tello.rotate_clockwise(360)\n",
    "\n",
    "tello.land()\n",
    "\n",
    "keepRecording = False\n",
    "recorder.join()"
   ]
  },
  {
   "cell_type": "code",
   "execution_count": 7,
   "metadata": {},
   "outputs": [
    {
     "name": "stderr",
     "output_type": "stream",
     "text": [
      "[INFO] tello.py - 421 - Send command: 'land'\n",
      "[INFO] tello.py - 445 - Response land: 'ok'\n"
     ]
    }
   ],
   "source": [
    "tello.land()"
   ]
  },
  {
   "cell_type": "code",
   "execution_count": 8,
   "metadata": {},
   "outputs": [],
   "source": [
    "keepRecording = False\n",
    "recorder.join()"
   ]
  },
  {
   "cell_type": "code",
   "execution_count": null,
   "metadata": {},
   "outputs": [],
   "source": []
  }
 ],
 "metadata": {
  "kernelspec": {
   "display_name": "venv",
   "language": "python",
   "name": "python3"
  },
  "language_info": {
   "codemirror_mode": {
    "name": "ipython",
    "version": 3
   },
   "file_extension": ".py",
   "mimetype": "text/x-python",
   "name": "python",
   "nbconvert_exporter": "python",
   "pygments_lexer": "ipython3",
   "version": "3.9.13"
  },
  "orig_nbformat": 4
 },
 "nbformat": 4,
 "nbformat_minor": 2
}
